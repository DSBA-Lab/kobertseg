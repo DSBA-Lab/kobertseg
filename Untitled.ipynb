{
 "cells": [
  {
   "cell_type": "code",
   "execution_count": 13,
   "metadata": {},
   "outputs": [],
   "source": [
    "import random\n",
    "import json\n",
    "from tqdm import tqdm\n",
    "import numpy as np\n",
    "import torch\n",
    "import gc \n",
    "\n",
    "import konlpy\n",
    "from multiprocess import Pool"
   ]
  },
  {
   "cell_type": "code",
   "execution_count": 14,
   "metadata": {},
   "outputs": [],
   "source": [
    "def load_jsonl(input_path) -> list:\n",
    "    \"\"\"\n",
    "    Read list of objects from a JSON lines file.\n",
    "    \"\"\"\n",
    "    data = []\n",
    "    with open(input_path, 'r', encoding='utf-8') as f:\n",
    "        for line in f:\n",
    "            data.append(json.loads(line.rstrip('\\n|\\r')))\n",
    "    print('Loaded {} records from {}'.format(len(data), input_path))\n",
    "    return data"
   ]
  },
  {
   "cell_type": "code",
   "execution_count": 23,
   "metadata": {},
   "outputs": [
    {
     "name": "stdout",
     "output_type": "stream",
     "text": [
      "Loaded 260697 records from dataset/bfly/train.jsonl\n",
      "Loaded 10000 records from dataset/bfly/dev.jsonl\n"
     ]
    }
   ],
   "source": [
    "train = [d['article_original'] for d in load_jsonl('dataset/bfly/train.jsonl')]\n",
    "valid = [d['article_original'] for d in load_jsonl('dataset/bfly/dev.jsonl')]\n",
    "#train = [article['article_original'] for article in train]"
   ]
  },
  {
   "cell_type": "code",
   "execution_count": 59,
   "metadata": {},
   "outputs": [],
   "source": [
    "bb = [[train[i], train[i+1]] for i in range(len(train)-1)[::2]]"
   ]
  },
  {
   "cell_type": "code",
   "execution_count": 25,
   "metadata": {},
   "outputs": [],
   "source": [
    "# shuffle trainset\n",
    "random.seed('43')\n",
    "random.shuffle(train)"
   ]
  },
  {
   "cell_type": "code",
   "execution_count": 46,
   "metadata": {},
   "outputs": [],
   "source": [
    "class DataIterator:\n",
    "    def __init__(self, dataset):\n",
    "        self.data = dataset\n",
    "        self.size = len(dataset)\n",
    "\n",
    "    def generator(self):\n",
    "        for i, d in enumerate(self.data):\n",
    "            yield d\n",
    "    \n",
    "train_dataset = DataIterator(train)"
   ]
  },
  {
   "cell_type": "code",
   "execution_count": 47,
   "metadata": {},
   "outputs": [
    {
     "name": "stdout",
     "output_type": "stream",
     "text": [
      "['생활 및 생업 속의 불편 규제를 찾습니다', \"= 안양시는 시민이 일상생활과 경제활동에서 겪는 애로사항을 개선하기 위해 행정안전부와 합동으로 '국민이 직접 디자인하는 민생규제 혁신과제'를 다음 달 17일까지 공모한다고 29일 밝혔다.\", '이번 공모는 국민이 일상생활과 경제활동 등에서 겪는 불편이나 불합리한 규제를 찾아 해결하고 개선하려는 취지로 마련됐다.', '공모 분야는 국민 생활과 밀접한 관련이 있는 국민복지, 일상생활, 국민안전강화, 취업·일자리, 자영업자 및 소상공인 지원 등 5개 분야다,안양시민·기업·소상공인 등 누구나 참여할 수 있으며, 복수 공모도 가능하다.', '공모 방법은 안양시청 홈페이지(시민참여-규제개혁119-알림방)에서 서식을 내려받아 시청 2층 정책기획과 규제개혁팀에 방문 제출하거나, 팩스 또는 전자메일로 전송하면 된다.', '우수과제로 선정되면 오는 10월 행정안전부 장관 표창과 함께 최우수 1명 50만원, 우수 3명 각 30만원, 장려 16명 각 10만원의 시상금이 주어질 예정이다.', '안양시 관계자는 \"일상생활과 경제활동에 불편을 주는 규제를 해결하기 위해 시민의 다양한 아이디어를 자유롭게 건의해주시기 바란다\"고 말했다.', '한편 안양시는 2018년 행정안전부 주관 민생규제 혁신과제 공모전에서 102건을 응모해 최고상(우수상)을 받고 137건의 중앙부처 규제개선 과제를 발굴, 23건의 개선 수용을 성취한 바 있다.', '그 밖에 공모 관련 자세한 사항은 안양시청 정책기획과 규제개혁팀으로 문의하면 된다.']\n"
     ]
    }
   ],
   "source": [
    "for d in train_dataset.generator():\n",
    "    print(d)\n",
    "    break"
   ]
  },
  {
   "cell_type": "code",
   "execution_count": 101,
   "metadata": {},
   "outputs": [],
   "source": [
    "train = torch.load('dataset/bfly/bertsep_data/bertsep_dt_train_w3.pt')"
   ]
  },
  {
   "cell_type": "code",
   "execution_count": 102,
   "metadata": {
    "scrolled": true
   },
   "outputs": [
    {
     "data": {
      "text/plain": [
       "141934"
      ]
     },
     "execution_count": 102,
     "metadata": {},
     "output_type": "execute_result"
    }
   ],
   "source": [
    "train.__len__()"
   ]
  },
  {
   "cell_type": "code",
   "execution_count": 97,
   "metadata": {},
   "outputs": [
    {
     "data": {
      "text/plain": [
       "(0,\n",
       " ['정의당 울산시당은 “울산레미콘공업협동조합은 지역 레미콘 공급중단사태를 해결하라”며 “조합은 노조파괴 행위를 중단해 노동자 생존권을 보장하고, 울산시도 문제 해결 의지를 보여라”고 촉구했다.',\n",
       "  '‘치매 지원 기반 마을 만들기를 담당할 인재’.',\n",
       "  '오무타시가 일본 내 처음 도입한 ‘치매 코디네이터’를 시는 이렇게 설명한다.',\n",
       "  '의료나 돌봄시설 현장에서 치매 환자를 관리하는 전문가로, 치매 친화 사회를 만드는 핵심 인력이다.',\n",
       "  '우메사키 유우키(사진) 씨는 오무타 시내 병원에서 일하다 2년간 시의 ‘치매 코디네이터 양성 교육’(9기 수료생)을 받고 정식 치매 코디네이터가 됐다.',\n",
       "  '사회복지사 등 치매 관련 직업군은 많으나 치매 코디네이터는 그들과 확연한 차이가 있다고 설명한다.'])"
      ]
     },
     "execution_count": 97,
     "metadata": {},
     "output_type": "execute_result"
    }
   ],
   "source": [
    "idx = -1\n",
    "train[idx]['sep_label'], train[idx]['src_txt']"
   ]
  },
  {
   "cell_type": "code",
   "execution_count": 99,
   "metadata": {},
   "outputs": [],
   "source": [
    "no, yes = 0, 0\n",
    "for t in train:\n",
    "    if t['sep_label'] == 0:\n",
    "        no += 1\n",
    "    else:\n",
    "        yes += 1"
   ]
  },
  {
   "cell_type": "code",
   "execution_count": 100,
   "metadata": {},
   "outputs": [
    {
     "data": {
      "text/plain": [
       "(78209, 52139)"
      ]
     },
     "execution_count": 100,
     "metadata": {},
     "output_type": "execute_result"
    }
   ],
   "source": [
    "no, yes"
   ]
  },
  {
   "cell_type": "code",
   "execution_count": null,
   "metadata": {},
   "outputs": [],
   "source": []
  }
 ],
 "metadata": {
  "kernelspec": {
   "display_name": "Python 3",
   "language": "python",
   "name": "python3"
  },
  "language_info": {
   "codemirror_mode": {
    "name": "ipython",
    "version": 3
   },
   "file_extension": ".py",
   "mimetype": "text/x-python",
   "name": "python",
   "nbconvert_exporter": "python",
   "pygments_lexer": "ipython3",
   "version": "3.8.5"
  }
 },
 "nbformat": 4,
 "nbformat_minor": 4
}
